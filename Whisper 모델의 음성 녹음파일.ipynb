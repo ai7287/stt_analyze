{
 "cells": [
  {
   "cell_type": "code",
   "execution_count": 1,
   "id": "25764400-ec14-45c0-b01c-0a4435d5211a",
   "metadata": {},
   "outputs": [
    {
     "name": "stdout",
     "output_type": "stream",
     "text": [
      "Collecting sounddevice\n",
      "  Obtaining dependency information for sounddevice from https://files.pythonhosted.org/packages/e1/3e/61d88e6b0a7383127cdc779195cb9d83ebcf11d39bc961de5777e457075e/sounddevice-0.5.2-py3-none-win_amd64.whl.metadata\n",
      "  Downloading sounddevice-0.5.2-py3-none-win_amd64.whl.metadata (1.6 kB)\n",
      "Requirement already satisfied: scipy in c:\\users\\xw47pnc7thon\\anaconda3\\lib\\site-packages (1.13.1)\n",
      "Requirement already satisfied: CFFI>=1.0 in c:\\users\\xw47pnc7thon\\anaconda3\\lib\\site-packages (from sounddevice) (1.16.0)\n",
      "Requirement already satisfied: numpy<2.3,>=1.22.4 in c:\\users\\xw47pnc7thon\\anaconda3\\lib\\site-packages (from scipy) (1.26.3)\n",
      "Requirement already satisfied: pycparser in c:\\users\\xw47pnc7thon\\anaconda3\\lib\\site-packages (from CFFI>=1.0->sounddevice) (2.21)\n",
      "Downloading sounddevice-0.5.2-py3-none-win_amd64.whl (363 kB)\n",
      "   ---------------------------------------- 0.0/363.8 kB ? eta -:--:--\n",
      "   --- ----------------------------------- 30.7/363.8 kB 660.6 kB/s eta 0:00:01\n",
      "   ---------------------------------------- 363.8/363.8 kB 4.5 MB/s eta 0:00:00\n",
      "Installing collected packages: sounddevice\n",
      "Successfully installed sounddevice-0.5.2\n",
      "Note: you may need to restart the kernel to use updated packages.\n"
     ]
    }
   ],
   "source": [
    "pip install sounddevice scipy"
   ]
  },
  {
   "cell_type": "code",
   "execution_count": 3,
   "id": "3e76f261-3d45-41c1-8c3e-a97460c7aeeb",
   "metadata": {},
   "outputs": [
    {
     "name": "stdout",
     "output_type": "stream",
     "text": [
      "🎙️ 녹음 시작 (5초)...\n",
      "✅ 녹음 완료, audio.wav 저장됨\n"
     ]
    }
   ],
   "source": [
    "import sounddevice as sd\n",
    "from scipy.io.wavfile import write\n",
    "\n",
    "fs = 16000  # 샘플레이트\n",
    "seconds = 5  # 녹음 시간\n",
    "print(\"🎙️ 녹음 시작 (5초)...\")\n",
    "recording = sd.rec(int(seconds * fs), samplerate=fs, channels=1)\n",
    "sd.wait()\n",
    "write(\"audio.wav\", fs, recording)\n",
    "print(\"✅ 녹음 완료, audio.wav 저장됨\")"
   ]
  },
  {
   "cell_type": "code",
   "execution_count": null,
   "id": "7cc1f763-15c6-4675-af7d-ab08a097e428",
   "metadata": {},
   "outputs": [],
   "source": []
  }
 ],
 "metadata": {
  "kernelspec": {
   "display_name": "Python 3 (ipykernel)",
   "language": "python",
   "name": "python3"
  },
  "language_info": {
   "codemirror_mode": {
    "name": "ipython",
    "version": 3
   },
   "file_extension": ".py",
   "mimetype": "text/x-python",
   "name": "python",
   "nbconvert_exporter": "python",
   "pygments_lexer": "ipython3",
   "version": "3.11.9"
  }
 },
 "nbformat": 4,
 "nbformat_minor": 5
}
