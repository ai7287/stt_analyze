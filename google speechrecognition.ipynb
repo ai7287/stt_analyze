{
 "cells": [
  {
   "cell_type": "code",
   "execution_count": 1,
   "id": "a8c76cce-c837-482b-aa92-b699e5173d39",
   "metadata": {},
   "outputs": [
    {
     "name": "stdout",
     "output_type": "stream",
     "text": [
      "Requirement already satisfied: SpeechRecognition in c:\\users\\xw47pnc7thon\\anaconda3\\lib\\site-packages (3.14.2)\n",
      "Collecting pydub\n",
      "  Obtaining dependency information for pydub from https://files.pythonhosted.org/packages/a6/53/d78dc063216e62fc55f6b2eebb447f6a4b0a59f55c8406376f76bf959b08/pydub-0.25.1-py2.py3-none-any.whl.metadata\n",
      "  Downloading pydub-0.25.1-py2.py3-none-any.whl.metadata (1.4 kB)\n",
      "Requirement already satisfied: typing-extensions in c:\\users\\xw47pnc7thon\\anaconda3\\lib\\site-packages (from SpeechRecognition) (4.11.0)\n",
      "Downloading pydub-0.25.1-py2.py3-none-any.whl (32 kB)\n",
      "Installing collected packages: pydub\n",
      "Successfully installed pydub-0.25.1\n"
     ]
    }
   ],
   "source": [
    "!pip install SpeechRecognition pydub"
   ]
  },
  {
   "cell_type": "code",
   "execution_count": 5,
   "id": "e15ddebc-a534-41ed-bae9-9858858bf8fb",
   "metadata": {},
   "outputs": [
    {
     "name": "stdout",
     "output_type": "stream",
     "text": [
      "✅ Google용 WAV 변환 완료\n"
     ]
    }
   ],
   "source": [
    "import os\n",
    "\n",
    "input_file = \"C:/Users/xw47PnC7Thon/capstone design/audio.wav\"\n",
    "output_file = \"C:/Users/xw47PnC7Thon/capstone design/audio_google.wav\"\n",
    "\n",
    "# 16kHz, mono, 16bit PCM으로 변환\n",
    "os.system(f'ffmpeg -y -i \"{input_file}\" -acodec pcm_s16le -ar 16000 -ac 1 \"{output_file}\"')\n",
    "print(\"✅ Google용 WAV 변환 완료\")"
   ]
  },
  {
   "cell_type": "code",
   "execution_count": 9,
   "id": "f1b16f7c-db4a-4dc9-86f8-5ed2161997a6",
   "metadata": {},
   "outputs": [
    {
     "name": "stdout",
     "output_type": "stream",
     "text": [
      "🗣️ 인식된 텍스트:\n",
      "소프트웨어 융합학과\n"
     ]
    }
   ],
   "source": [
    "import speech_recognition as sr\n",
    "\n",
    "r = sr.Recognizer()\n",
    "audio_path = \"C:/Users/xw47PnC7Thon/capstone design/audio_google.wav\"\n",
    "\n",
    "with sr.AudioFile(audio_path) as source:\n",
    "    audio_data = r.record(source)\n",
    "\n",
    "try:\n",
    "    text = r.recognize_google(audio_data, language=\"ko-KR\")\n",
    "    print(\"🗣️ 인식된 텍스트:\")\n",
    "    print(text)\n",
    "except sr.UnknownValueError:\n",
    "    print(\"❌ 음성을 인식할 수 없습니다.\")\n",
    "except sr.RequestError as e:\n",
    "    print(f\"❌ Google API 요청 오류: {e}\")"
   ]
  },
  {
   "cell_type": "code",
   "execution_count": null,
   "id": "c1bb89e6-92d5-4555-b3de-2cbcf5cb919f",
   "metadata": {},
   "outputs": [],
   "source": []
  }
 ],
 "metadata": {
  "kernelspec": {
   "display_name": "Python 3 (ipykernel)",
   "language": "python",
   "name": "python3"
  },
  "language_info": {
   "codemirror_mode": {
    "name": "ipython",
    "version": 3
   },
   "file_extension": ".py",
   "mimetype": "text/x-python",
   "name": "python",
   "nbconvert_exporter": "python",
   "pygments_lexer": "ipython3",
   "version": "3.11.9"
  }
 },
 "nbformat": 4,
 "nbformat_minor": 5
}
