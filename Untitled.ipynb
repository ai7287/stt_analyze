{
 "cells": [
  {
   "cell_type": "code",
   "execution_count": 11,
   "id": "a851e443-53b6-4c27-9eb3-f1857941b5f0",
   "metadata": {},
   "outputs": [
    {
     "name": "stdout",
     "output_type": "stream",
     "text": [
      "Collecting SpeechRecognition\n",
      "  Obtaining dependency information for SpeechRecognition from https://files.pythonhosted.org/packages/10/7a/ef9a0a3ddd7e8b304906bf0d7b1f3cd92759d7ea8be10d284183b2e8f47c/speechrecognition-3.14.2-py3-none-any.whl.metadata\n",
      "  Downloading speechrecognition-3.14.2-py3-none-any.whl.metadata (30 kB)\n",
      "Requirement already satisfied: typing-extensions in c:\\users\\xw47pnc7thon\\anaconda3\\lib\\site-packages (from SpeechRecognition) (4.11.0)\n",
      "Downloading speechrecognition-3.14.2-py3-none-any.whl (32.9 MB)\n",
      "   ---------------------------------------- 0.0/32.9 MB ? eta -:--:--\n",
      "   ---------------------------------------- 0.2/32.9 MB 3.5 MB/s eta 0:00:10\n",
      "    --------------------------------------- 0.7/32.9 MB 7.8 MB/s eta 0:00:05\n",
      "   -- ------------------------------------- 1.7/32.9 MB 11.8 MB/s eta 0:00:03\n",
      "   --- ------------------------------------ 3.1/32.9 MB 16.3 MB/s eta 0:00:02\n",
      "   ----- ---------------------------------- 4.8/32.9 MB 20.5 MB/s eta 0:00:02\n",
      "   -------- ------------------------------- 6.8/32.9 MB 24.1 MB/s eta 0:00:02\n",
      "   ---------- ----------------------------- 8.8/32.9 MB 28.1 MB/s eta 0:00:01\n",
      "   ------------- -------------------------- 11.4/32.9 MB 40.9 MB/s eta 0:00:01\n",
      "   ----------------- ---------------------- 14.0/32.9 MB 50.4 MB/s eta 0:00:01\n",
      "   -------------------- ------------------- 16.7/32.9 MB 54.7 MB/s eta 0:00:01\n",
      "   ----------------------- ---------------- 19.5/32.9 MB 59.5 MB/s eta 0:00:01\n",
      "   --------------------------- ------------ 22.2/32.9 MB 59.5 MB/s eta 0:00:01\n",
      "   ------------------------------ --------- 24.7/32.9 MB 59.5 MB/s eta 0:00:01\n",
      "   ------------------------------- -------- 25.7/32.9 MB 50.4 MB/s eta 0:00:01\n",
      "   -------------------------------- ------- 26.7/32.9 MB 43.5 MB/s eta 0:00:01\n",
      "   ----------------------------------- ---- 29.0/32.9 MB 43.5 MB/s eta 0:00:01\n",
      "   -------------------------------------- - 31.7/32.9 MB 43.7 MB/s eta 0:00:01\n",
      "   ---------------------------------------  32.8/32.9 MB 43.7 MB/s eta 0:00:01\n",
      "   ---------------------------------------  32.8/32.9 MB 43.7 MB/s eta 0:00:01\n",
      "   ---------------------------------------- 32.9/32.9 MB 28.5 MB/s eta 0:00:00\n",
      "Installing collected packages: SpeechRecognition\n",
      "Successfully installed SpeechRecognition-3.14.2\n",
      "Note: you may need to restart the kernel to use updated packages.\n"
     ]
    }
   ],
   "source": [
    "pip install SpeechRecognition"
   ]
  },
  {
   "cell_type": "code",
   "execution_count": 13,
   "id": "f6404605-a2df-43f2-9e24-7e72035e2d9c",
   "metadata": {},
   "outputs": [
    {
     "name": "stdout",
     "output_type": "stream",
     "text": [
      "Requirement already satisfied: PyAudio in c:\\users\\xw47pnc7thon\\anaconda3\\lib\\site-packages (0.2.14)\n",
      "Note: you may need to restart the kernel to use updated packages.\n"
     ]
    }
   ],
   "source": [
    "pip install PyAudio"
   ]
  },
  {
   "cell_type": "code",
   "execution_count": 15,
   "id": "d4973d99-09b5-4b67-bf0a-5f8f12afe18c",
   "metadata": {},
   "outputs": [
    {
     "name": "stdout",
     "output_type": "stream",
     "text": [
      "🎙 말하세요...\n",
      "❗ 음성을 인식할 수 없습니다.\n"
     ]
    }
   ],
   "source": [
    "import speech_recognition as sr\n",
    "\n",
    "# Recognizer 인스턴스 생성\n",
    "recognizer = sr.Recognizer()\n",
    "\n",
    "# 마이크로부터 음성 입력 받기\n",
    "with sr.Microphone() as source:\n",
    "    print(\"🎙 말하세요...\")\n",
    "    # 소음 수치 자동 조정\n",
    "    recognizer.adjust_for_ambient_noise(source)\n",
    "    # 사용자의 발화 녹음\n",
    "    audio_data = recognizer.listen(source)\n",
    "\n",
    "    try:\n",
    "        # Google Web Speech API를 사용해 텍스트 변환\n",
    "        text = recognizer.recognize_google(audio_data, language=\"ko-KR\")\n",
    "        print(\"➡️ 인식된 텍스트:\", text)\n",
    "    except sr.UnknownValueError:\n",
    "        print(\"❗ 음성을 인식할 수 없습니다.\")\n",
    "    except sr.RequestError as e:\n",
    "        print(f\"❗ 요청 실패: {e}\")\n"
   ]
  },
  {
   "cell_type": "code",
   "execution_count": null,
   "id": "205532bc-b19d-4ba4-ba3e-a2a81886f741",
   "metadata": {},
   "outputs": [],
   "source": []
  }
 ],
 "metadata": {
  "kernelspec": {
   "display_name": "Python 3 (ipykernel)",
   "language": "python",
   "name": "python3"
  },
  "language_info": {
   "codemirror_mode": {
    "name": "ipython",
    "version": 3
   },
   "file_extension": ".py",
   "mimetype": "text/x-python",
   "name": "python",
   "nbconvert_exporter": "python",
   "pygments_lexer": "ipython3",
   "version": "3.11.9"
  }
 },
 "nbformat": 4,
 "nbformat_minor": 5
}
