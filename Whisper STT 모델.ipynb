{
 "cells": [
  {
   "cell_type": "code",
   "execution_count": 1,
   "id": "e7a5afc7-4b12-4021-a020-4255c78ee4ba",
   "metadata": {},
   "outputs": [
    {
     "name": "stdout",
     "output_type": "stream",
     "text": [
      "Collecting git+https://github.com/openai/whisper.git\n",
      "  Cloning https://github.com/openai/whisper.git to c:\\users\\xw47pnc7thon\\appdata\\local\\temp\\pip-req-build-9lhdbz9a\n",
      "  Resolved https://github.com/openai/whisper.git to commit dd985ac4b90cafeef8712f2998d62c59c3e62d22\n",
      "  Installing build dependencies: started\n",
      "  Installing build dependencies: finished with status 'done'\n",
      "  Getting requirements to build wheel: started\n",
      "  Getting requirements to build wheel: finished with status 'done'\n",
      "  Preparing metadata (pyproject.toml): started\n",
      "  Preparing metadata (pyproject.toml): finished with status 'done'\n",
      "Requirement already satisfied: more-itertools in c:\\users\\xw47pnc7thon\\anaconda3\\lib\\site-packages (from openai-whisper==20240930) (10.1.0)\n",
      "Collecting numba (from openai-whisper==20240930)\n",
      "  Obtaining dependency information for numba from https://files.pythonhosted.org/packages/0f/a4/2b309a6a9f6d4d8cfba583401c7c2f9ff887adb5d54d8e2e130274c0973f/numba-0.61.2-cp311-cp311-win_amd64.whl.metadata\n",
      "  Downloading numba-0.61.2-cp311-cp311-win_amd64.whl.metadata (2.9 kB)\n",
      "Requirement already satisfied: numpy in c:\\users\\xw47pnc7thon\\anaconda3\\lib\\site-packages (from openai-whisper==20240930) (1.26.3)\n",
      "Collecting tiktoken (from openai-whisper==20240930)\n",
      "  Obtaining dependency information for tiktoken from https://files.pythonhosted.org/packages/6f/07/c67ad1724b8e14e2b4c8cca04b15da158733ac60136879131db05dda7c30/tiktoken-0.9.0-cp311-cp311-win_amd64.whl.metadata\n",
      "  Downloading tiktoken-0.9.0-cp311-cp311-win_amd64.whl.metadata (6.8 kB)\n",
      "Requirement already satisfied: torch in c:\\users\\xw47pnc7thon\\anaconda3\\lib\\site-packages (from openai-whisper==20240930) (2.3.1+cu118)\n",
      "Requirement already satisfied: tqdm in c:\\users\\xw47pnc7thon\\anaconda3\\lib\\site-packages (from openai-whisper==20240930) (4.66.4)\n",
      "Collecting llvmlite<0.45,>=0.44.0dev0 (from numba->openai-whisper==20240930)\n",
      "  Obtaining dependency information for llvmlite<0.45,>=0.44.0dev0 from https://files.pythonhosted.org/packages/5f/c6/258801143975a6d09a373f2641237992496e15567b907a4d401839d671b8/llvmlite-0.44.0-cp311-cp311-win_amd64.whl.metadata\n",
      "  Downloading llvmlite-0.44.0-cp311-cp311-win_amd64.whl.metadata (5.0 kB)\n",
      "Requirement already satisfied: regex>=2022.1.18 in c:\\users\\xw47pnc7thon\\anaconda3\\lib\\site-packages (from tiktoken->openai-whisper==20240930) (2024.7.24)\n",
      "Requirement already satisfied: requests>=2.26.0 in c:\\users\\xw47pnc7thon\\anaconda3\\lib\\site-packages (from tiktoken->openai-whisper==20240930) (2.32.2)\n",
      "Requirement already satisfied: filelock in c:\\users\\xw47pnc7thon\\anaconda3\\lib\\site-packages (from torch->openai-whisper==20240930) (3.13.1)\n",
      "Requirement already satisfied: typing-extensions>=4.8.0 in c:\\users\\xw47pnc7thon\\anaconda3\\lib\\site-packages (from torch->openai-whisper==20240930) (4.11.0)\n",
      "Requirement already satisfied: sympy in c:\\users\\xw47pnc7thon\\anaconda3\\lib\\site-packages (from torch->openai-whisper==20240930) (1.12)\n",
      "Requirement already satisfied: networkx in c:\\users\\xw47pnc7thon\\anaconda3\\lib\\site-packages (from torch->openai-whisper==20240930) (3.2.1)\n",
      "Requirement already satisfied: jinja2 in c:\\users\\xw47pnc7thon\\anaconda3\\lib\\site-packages (from torch->openai-whisper==20240930) (3.1.4)\n",
      "Requirement already satisfied: fsspec in c:\\users\\xw47pnc7thon\\anaconda3\\lib\\site-packages (from torch->openai-whisper==20240930) (2024.2.0)\n",
      "Requirement already satisfied: mkl<=2021.4.0,>=2021.1.1 in c:\\users\\xw47pnc7thon\\anaconda3\\lib\\site-packages (from torch->openai-whisper==20240930) (2021.4.0)\n",
      "Requirement already satisfied: colorama in c:\\users\\xw47pnc7thon\\appdata\\roaming\\python\\python311\\site-packages (from tqdm->openai-whisper==20240930) (0.4.6)\n",
      "Requirement already satisfied: intel-openmp==2021.* in c:\\users\\xw47pnc7thon\\anaconda3\\lib\\site-packages (from mkl<=2021.4.0,>=2021.1.1->torch->openai-whisper==20240930) (2021.4.0)\n",
      "Requirement already satisfied: tbb==2021.* in c:\\users\\xw47pnc7thon\\anaconda3\\lib\\site-packages (from mkl<=2021.4.0,>=2021.1.1->torch->openai-whisper==20240930) (2021.11.0)\n",
      "Requirement already satisfied: charset-normalizer<4,>=2 in c:\\users\\xw47pnc7thon\\anaconda3\\lib\\site-packages (from requests>=2.26.0->tiktoken->openai-whisper==20240930) (2.0.4)\n",
      "Requirement already satisfied: idna<4,>=2.5 in c:\\users\\xw47pnc7thon\\anaconda3\\lib\\site-packages (from requests>=2.26.0->tiktoken->openai-whisper==20240930) (3.7)\n",
      "Requirement already satisfied: urllib3<3,>=1.21.1 in c:\\users\\xw47pnc7thon\\anaconda3\\lib\\site-packages (from requests>=2.26.0->tiktoken->openai-whisper==20240930) (2.2.1)\n",
      "Requirement already satisfied: certifi>=2017.4.17 in c:\\users\\xw47pnc7thon\\anaconda3\\lib\\site-packages (from requests>=2.26.0->tiktoken->openai-whisper==20240930) (2024.2.2)\n",
      "Requirement already satisfied: MarkupSafe>=2.0 in c:\\users\\xw47pnc7thon\\anaconda3\\lib\\site-packages (from jinja2->torch->openai-whisper==20240930) (2.1.3)\n",
      "Requirement already satisfied: mpmath>=0.19 in c:\\users\\xw47pnc7thon\\anaconda3\\lib\\site-packages (from sympy->torch->openai-whisper==20240930) (1.3.0)\n",
      "Downloading numba-0.61.2-cp311-cp311-win_amd64.whl (2.8 MB)\n",
      "   ---------------------------------------- 0.0/2.8 MB ? eta -:--:--\n",
      "    --------------------------------------- 0.0/2.8 MB 1.9 MB/s eta 0:00:02\n",
      "   --------------------- ------------------ 1.5/2.8 MB 23.9 MB/s eta 0:00:01\n",
      "   ---------------------------------------- 2.8/2.8 MB 25.9 MB/s eta 0:00:00\n",
      "Downloading tiktoken-0.9.0-cp311-cp311-win_amd64.whl (893 kB)\n",
      "   ---------------------------------------- 0.0/893.9 kB ? eta -:--:--\n",
      "   --------------------------------------- 893.9/893.9 kB 55.2 MB/s eta 0:00:00\n",
      "Downloading llvmlite-0.44.0-cp311-cp311-win_amd64.whl (30.3 MB)\n",
      "   ---------------------------------------- 0.0/30.3 MB ? eta -:--:--\n",
      "   -- ------------------------------------- 1.8/30.3 MB 59.1 MB/s eta 0:00:01\n",
      "   ----- ---------------------------------- 4.2/30.3 MB 53.4 MB/s eta 0:00:01\n",
      "   --------- ------------------------------ 6.8/30.3 MB 54.6 MB/s eta 0:00:01\n",
      "   ----------- ---------------------------- 9.1/30.3 MB 52.6 MB/s eta 0:00:01\n",
      "   -------------- ------------------------- 10.8/30.3 MB 46.7 MB/s eta 0:00:01\n",
      "   ---------------- ----------------------- 12.4/30.3 MB 50.4 MB/s eta 0:00:01\n",
      "   ------------------- -------------------- 15.1/30.3 MB 46.7 MB/s eta 0:00:01\n",
      "   ---------------------- ----------------- 17.2/30.3 MB 46.7 MB/s eta 0:00:01\n",
      "   ------------------------- -------------- 19.3/30.3 MB 46.7 MB/s eta 0:00:01\n",
      "   ---------------------------- ----------- 21.5/30.3 MB 50.4 MB/s eta 0:00:01\n",
      "   ------------------------------- -------- 23.6/30.3 MB 46.7 MB/s eta 0:00:01\n",
      "   ---------------------------------- ----- 26.1/30.3 MB 46.9 MB/s eta 0:00:01\n",
      "   ------------------------------------ --- 28.0/30.3 MB 46.9 MB/s eta 0:00:01\n",
      "   ---------------------------------------  30.2/30.3 MB 46.7 MB/s eta 0:00:01\n",
      "   ---------------------------------------  30.3/30.3 MB 46.7 MB/s eta 0:00:01\n",
      "   ---------------------------------------- 30.3/30.3 MB 34.4 MB/s eta 0:00:00\n",
      "Building wheels for collected packages: openai-whisper\n",
      "  Building wheel for openai-whisper (pyproject.toml): started\n",
      "  Building wheel for openai-whisper (pyproject.toml): finished with status 'done'\n",
      "  Created wheel for openai-whisper: filename=openai_whisper-20240930-py3-none-any.whl size=813054 sha256=43d5e084fa40ed6dc79269bfbc9dbbf76165c09c7034c147784950777e3e0c4f\n",
      "  Stored in directory: C:\\Users\\xw47PnC7Thon\\AppData\\Local\\Temp\\pip-ephem-wheel-cache-35ohlcln\\wheels\\1f\\1d\\98\\9583695e6695a6ac0ad42d87511097dce5ba486647dbfecb0e\n",
      "Successfully built openai-whisper\n",
      "Installing collected packages: llvmlite, tiktoken, numba, openai-whisper\n",
      "Successfully installed llvmlite-0.44.0 numba-0.61.2 openai-whisper-20240930 tiktoken-0.9.0\n"
     ]
    },
    {
     "name": "stderr",
     "output_type": "stream",
     "text": [
      "  Running command git clone --filter=blob:none --quiet https://github.com/openai/whisper.git 'C:\\Users\\xw47PnC7Thon\\AppData\\Local\\Temp\\pip-req-build-9lhdbz9a'\n"
     ]
    }
   ],
   "source": [
    "!pip install git+https://github.com/openai/whisper.git"
   ]
  },
  {
   "cell_type": "code",
   "execution_count": 2,
   "id": "f3c638d0-8076-45a6-9a93-6384f22def0f",
   "metadata": {},
   "outputs": [
    {
     "name": "stdout",
     "output_type": "stream",
     "text": [
      "Looking in indexes: https://download.pytorch.org/whl/cu118\n",
      "Requirement already satisfied: torch in c:\\users\\xw47pnc7thon\\anaconda3\\lib\\site-packages (2.3.1+cu118)\n",
      "Requirement already satisfied: torchvision in c:\\users\\xw47pnc7thon\\anaconda3\\lib\\site-packages (0.18.1+cu118)\n",
      "Requirement already satisfied: torchaudio in c:\\users\\xw47pnc7thon\\anaconda3\\lib\\site-packages (2.3.1+cu118)\n",
      "Requirement already satisfied: filelock in c:\\users\\xw47pnc7thon\\anaconda3\\lib\\site-packages (from torch) (3.13.1)\n",
      "Requirement already satisfied: typing-extensions>=4.8.0 in c:\\users\\xw47pnc7thon\\anaconda3\\lib\\site-packages (from torch) (4.11.0)\n",
      "Requirement already satisfied: sympy in c:\\users\\xw47pnc7thon\\anaconda3\\lib\\site-packages (from torch) (1.12)\n",
      "Requirement already satisfied: networkx in c:\\users\\xw47pnc7thon\\anaconda3\\lib\\site-packages (from torch) (3.2.1)\n",
      "Requirement already satisfied: jinja2 in c:\\users\\xw47pnc7thon\\anaconda3\\lib\\site-packages (from torch) (3.1.4)\n",
      "Requirement already satisfied: fsspec in c:\\users\\xw47pnc7thon\\anaconda3\\lib\\site-packages (from torch) (2024.2.0)\n",
      "Requirement already satisfied: mkl<=2021.4.0,>=2021.1.1 in c:\\users\\xw47pnc7thon\\anaconda3\\lib\\site-packages (from torch) (2021.4.0)\n",
      "Requirement already satisfied: numpy in c:\\users\\xw47pnc7thon\\anaconda3\\lib\\site-packages (from torchvision) (1.26.3)\n",
      "Requirement already satisfied: pillow!=8.3.*,>=5.3.0 in c:\\users\\xw47pnc7thon\\anaconda3\\lib\\site-packages (from torchvision) (10.3.0)\n",
      "Requirement already satisfied: intel-openmp==2021.* in c:\\users\\xw47pnc7thon\\anaconda3\\lib\\site-packages (from mkl<=2021.4.0,>=2021.1.1->torch) (2021.4.0)\n",
      "Requirement already satisfied: tbb==2021.* in c:\\users\\xw47pnc7thon\\anaconda3\\lib\\site-packages (from mkl<=2021.4.0,>=2021.1.1->torch) (2021.11.0)\n",
      "Requirement already satisfied: MarkupSafe>=2.0 in c:\\users\\xw47pnc7thon\\anaconda3\\lib\\site-packages (from jinja2->torch) (2.1.3)\n",
      "Requirement already satisfied: mpmath>=0.19 in c:\\users\\xw47pnc7thon\\anaconda3\\lib\\site-packages (from sympy->torch) (1.3.0)\n"
     ]
    }
   ],
   "source": [
    "!pip install torch torchvision torchaudio --index-url https://download.pytorch.org/whl/cu118"
   ]
  },
  {
   "cell_type": "code",
   "execution_count": 3,
   "id": "440ebb62-fd88-48e4-8c39-3c555a932b13",
   "metadata": {},
   "outputs": [
    {
     "name": "stdout",
     "output_type": "stream",
     "text": [
      "Collecting ffmpeg-python\n",
      "  Obtaining dependency information for ffmpeg-python from https://files.pythonhosted.org/packages/d7/0c/56be52741f75bad4dc6555991fabd2e07b432d333da82c11ad701123888a/ffmpeg_python-0.2.0-py3-none-any.whl.metadata\n",
      "  Downloading ffmpeg_python-0.2.0-py3-none-any.whl.metadata (1.7 kB)\n",
      "Requirement already satisfied: future in c:\\users\\xw47pnc7thon\\anaconda3\\lib\\site-packages (from ffmpeg-python) (0.18.3)\n",
      "Downloading ffmpeg_python-0.2.0-py3-none-any.whl (25 kB)\n",
      "Installing collected packages: ffmpeg-python\n",
      "Successfully installed ffmpeg-python-0.2.0\n"
     ]
    }
   ],
   "source": [
    "!pip install ffmpeg-python"
   ]
  },
  {
   "cell_type": "code",
   "execution_count": 1,
   "id": "21629723-4171-4cf9-85b5-bc9236035e10",
   "metadata": {},
   "outputs": [
    {
     "name": "stdout",
     "output_type": "stream",
     "text": [
      "ffmpeg version 7.1.1-essentials_build-www.gyan.dev Copyright (c) 2000-2025 the FFmpeg developers\n",
      "built with gcc 14.2.0 (Rev1, Built by MSYS2 project)\n",
      "configuration: --enable-gpl --enable-version3 --enable-static --disable-w32threads --disable-autodetect --enable-fontconfig --enable-iconv --enable-gnutls --enable-libxml2 --enable-gmp --enable-bzlib --enable-lzma --enable-zlib --enable-libsrt --enable-libssh --enable-libzmq --enable-avisynth --enable-sdl2 --enable-libwebp --enable-libx264 --enable-libx265 --enable-libxvid --enable-libaom --enable-libopenjpeg --enable-libvpx --enable-mediafoundation --enable-libass --enable-libfreetype --enable-libfribidi --enable-libharfbuzz --enable-libvidstab --enable-libvmaf --enable-libzimg --enable-amf --enable-cuda-llvm --enable-cuvid --enable-dxva2 --enable-d3d11va --enable-d3d12va --enable-ffnvcodec --enable-libvpl --enable-nvdec --enable-nvenc --enable-vaapi --enable-libgme --enable-libopenmpt --enable-libopencore-amrwb --enable-libmp3lame --enable-libtheora --enable-libvo-amrwbenc --enable-libgsm --enable-libopencore-amrnb --enable-libopus --enable-libspeex --enable-libvorbis --enable-librubberband\n",
      "libavutil      59. 39.100 / 59. 39.100\n",
      "libavcodec     61. 19.101 / 61. 19.101\n",
      "libavformat    61.  7.100 / 61.  7.100\n",
      "libavdevice    61.  3.100 / 61.  3.100\n",
      "libavfilter    10.  4.100 / 10.  4.100\n",
      "libswscale      8.  3.100 /  8.  3.100\n",
      "libswresample   5.  3.100 /  5.  3.100\n",
      "libpostproc    58.  3.100 / 58.  3.100\n"
     ]
    }
   ],
   "source": [
    "!ffmpeg -version"
   ]
  },
  {
   "cell_type": "code",
   "execution_count": 3,
   "id": "9f65d7db-d5eb-442f-a7dd-04b64a447946",
   "metadata": {},
   "outputs": [
    {
     "name": "stderr",
     "output_type": "stream",
     "text": [
      "C:\\Users\\xw47PnC7Thon\\anaconda3\\Lib\\site-packages\\whisper\\model.py:124: UserWarning: 1Torch was not compiled with flash attention. (Triggered internally at ..\\aten\\src\\ATen\\native\\transformers\\cuda\\sdp_utils.cpp:455.)\n",
      "  a = scaled_dot_product_attention(\n"
     ]
    },
    {
     "name": "stdout",
     "output_type": "stream",
     "text": [
      "🗣️ 인식된 텍스트:\n",
      " 소프트웨어 용합학과\n"
     ]
    }
   ],
   "source": [
    "import whisper\n",
    "\n",
    "# 모델 불러오기\n",
    "model = whisper.load_model(\"base\")  # tiny, base, small, medium, large 가능\n",
    "\n",
    "# 음성 파일 처리\n",
    "result = model.transcribe(\"C:\\\\Users\\\\xw47PnC7Thon\\\\capstone design\\\\audio.wav\")\n",
    "\n",
    "# 결과 출력\n",
    "print(\"🗣️ 인식된 텍스트:\")\n",
    "print(result[\"text\"])\n"
   ]
  },
  {
   "cell_type": "code",
   "execution_count": null,
   "id": "d7f440f8-768a-45ab-9d6e-2939e9ee4df1",
   "metadata": {},
   "outputs": [],
   "source": []
  }
 ],
 "metadata": {
  "kernelspec": {
   "display_name": "Python 3 (ipykernel)",
   "language": "python",
   "name": "python3"
  },
  "language_info": {
   "codemirror_mode": {
    "name": "ipython",
    "version": 3
   },
   "file_extension": ".py",
   "mimetype": "text/x-python",
   "name": "python",
   "nbconvert_exporter": "python",
   "pygments_lexer": "ipython3",
   "version": "3.11.9"
  }
 },
 "nbformat": 4,
 "nbformat_minor": 5
}
