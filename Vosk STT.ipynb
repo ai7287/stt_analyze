{
 "cells": [
  {
   "cell_type": "code",
   "execution_count": 1,
   "id": "2528bfc8-2d41-411e-b2a8-ac11784bacc1",
   "metadata": {},
   "outputs": [
    {
     "name": "stdout",
     "output_type": "stream",
     "text": [
      "Requirement already satisfied: vosk in c:\\users\\xw47pnc7thon\\anaconda3\\lib\\site-packages (0.3.45)\n",
      "Collecting soundfile\n",
      "  Obtaining dependency information for soundfile from https://files.pythonhosted.org/packages/14/e9/6b761de83277f2f02ded7e7ea6f07828ec78e4b229b80e4ca55dd205b9dc/soundfile-0.13.1-py2.py3-none-win_amd64.whl.metadata\n",
      "  Downloading soundfile-0.13.1-py2.py3-none-win_amd64.whl.metadata (16 kB)\n",
      "Requirement already satisfied: cffi>=1.0 in c:\\users\\xw47pnc7thon\\anaconda3\\lib\\site-packages (from vosk) (1.16.0)\n",
      "Requirement already satisfied: requests in c:\\users\\xw47pnc7thon\\anaconda3\\lib\\site-packages (from vosk) (2.32.2)\n",
      "Requirement already satisfied: srt in c:\\users\\xw47pnc7thon\\anaconda3\\lib\\site-packages (from vosk) (3.5.3)\n",
      "Requirement already satisfied: tqdm in c:\\users\\xw47pnc7thon\\anaconda3\\lib\\site-packages (from vosk) (4.66.4)\n",
      "Requirement already satisfied: websockets in c:\\users\\xw47pnc7thon\\anaconda3\\lib\\site-packages (from vosk) (15.0.1)\n",
      "Requirement already satisfied: numpy in c:\\users\\xw47pnc7thon\\anaconda3\\lib\\site-packages (from soundfile) (1.26.3)\n",
      "Requirement already satisfied: pycparser in c:\\users\\xw47pnc7thon\\anaconda3\\lib\\site-packages (from cffi>=1.0->vosk) (2.21)\n",
      "Requirement already satisfied: charset-normalizer<4,>=2 in c:\\users\\xw47pnc7thon\\anaconda3\\lib\\site-packages (from requests->vosk) (2.0.4)\n",
      "Requirement already satisfied: idna<4,>=2.5 in c:\\users\\xw47pnc7thon\\anaconda3\\lib\\site-packages (from requests->vosk) (3.7)\n",
      "Requirement already satisfied: urllib3<3,>=1.21.1 in c:\\users\\xw47pnc7thon\\anaconda3\\lib\\site-packages (from requests->vosk) (2.2.1)\n",
      "Requirement already satisfied: certifi>=2017.4.17 in c:\\users\\xw47pnc7thon\\anaconda3\\lib\\site-packages (from requests->vosk) (2024.2.2)\n",
      "Requirement already satisfied: colorama in c:\\users\\xw47pnc7thon\\appdata\\roaming\\python\\python311\\site-packages (from tqdm->vosk) (0.4.6)\n",
      "Downloading soundfile-0.13.1-py2.py3-none-win_amd64.whl (1.0 MB)\n",
      "   ---------------------------------------- 0.0/1.0 MB ? eta -:--:--\n",
      "   - -------------------------------------- 0.0/1.0 MB 1.3 MB/s eta 0:00:01\n",
      "   ------------------------- -------------- 0.7/1.0 MB 10.2 MB/s eta 0:00:01\n",
      "   ---------------------------------------  1.0/1.0 MB 9.2 MB/s eta 0:00:01\n",
      "   ---------------------------------------- 1.0/1.0 MB 9.3 MB/s eta 0:00:00\n",
      "Installing collected packages: soundfile\n",
      "Successfully installed soundfile-0.13.1\n"
     ]
    }
   ],
   "source": [
    "!pip install vosk soundfile"
   ]
  },
  {
   "cell_type": "code",
   "execution_count": 7,
   "id": "392cc520-61f4-4c30-a9f5-0d343c9e163e",
   "metadata": {},
   "outputs": [
    {
     "name": "stdout",
     "output_type": "stream",
     "text": [
      "✅ PCM 변환 완료: C:/Users/xw47PnC7Thon/capstone design/audio_pcm.wav\n"
     ]
    }
   ],
   "source": [
    "import os\n",
    "\n",
    "input_file = \"C:/Users/xw47PnC7Thon/capstone design/audio.wav\"\n",
    "output_file = \"C:/Users/xw47PnC7Thon/capstone design/audio_pcm.wav\"\n",
    "\n",
    "os.system(f'ffmpeg -y -i \"{input_file}\" -acodec pcm_s16le -ar 16000 -ac 1 \"{output_file}\"')\n",
    "print(\"✅ PCM 변환 완료:\", output_file)\n"
   ]
  },
  {
   "cell_type": "code",
   "execution_count": 11,
   "id": "f4ea2716-7c11-4ba9-adc1-2a45a4172b8e",
   "metadata": {},
   "outputs": [
    {
     "name": "stdout",
     "output_type": "stream",
     "text": [
      "🗣️ 인식된 텍스트:\n",
      "소프트웨어 융합 박 과\n"
     ]
    }
   ],
   "source": [
    "# 3. STT 수행\n",
    "from vosk import Model, KaldiRecognizer\n",
    "import wave\n",
    "import json\n",
    "\n",
    "# 모델 경로와 음성 파일 경로 지정\n",
    "model_path = \"C:/vosk-model-small-ko-0.22\"\n",
    "audio_path = \"C:/Users/xw47PnC7Thon/capstone design/audio_pcm.wav\"\n",
    "\n",
    "# Vosk 모델 로드\n",
    "model = Model(model_path)\n",
    "\n",
    "# WAV 파일 열기\n",
    "wf = wave.open(audio_path, \"rb\")\n",
    "rec = KaldiRecognizer(model, wf.getframerate())\n",
    "\n",
    "# 텍스트 결과 저장\n",
    "result_text = \"\"\n",
    "\n",
    "# 프레임 단위로 읽으며 인식\n",
    "while True:\n",
    "    data = wf.readframes(4000)\n",
    "    if len(data) == 0:\n",
    "        break\n",
    "    if rec.AcceptWaveform(data):\n",
    "        result = json.loads(rec.Result())\n",
    "        result_text += result.get(\"text\", \"\") + \" \"\n",
    "\n",
    "# 최종 텍스트 출력\n",
    "print(\"🗣️ 인식된 텍스트:\")\n",
    "print(result_text.strip())"
   ]
  },
  {
   "cell_type": "code",
   "execution_count": null,
   "id": "088a982d-a1aa-4139-ba94-c1aa25acc080",
   "metadata": {},
   "outputs": [],
   "source": []
  }
 ],
 "metadata": {
  "kernelspec": {
   "display_name": "Python 3 (ipykernel)",
   "language": "python",
   "name": "python3"
  },
  "language_info": {
   "codemirror_mode": {
    "name": "ipython",
    "version": 3
   },
   "file_extension": ".py",
   "mimetype": "text/x-python",
   "name": "python",
   "nbconvert_exporter": "python",
   "pygments_lexer": "ipython3",
   "version": "3.11.9"
  }
 },
 "nbformat": 4,
 "nbformat_minor": 5
}
